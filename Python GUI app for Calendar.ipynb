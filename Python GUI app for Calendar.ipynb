{
 "cells": [
  {
   "cell_type": "code",
   "execution_count": 1,
   "id": "78a5048a",
   "metadata": {},
   "outputs": [],
   "source": [
    "#Importing tkinter module\n",
    "from tkinter import *\n",
    "#importing calendar module\n",
    "import calendar"
   ]
  },
  {
   "cell_type": "code",
   "execution_count": 12,
   "id": "e97d1b12",
   "metadata": {},
   "outputs": [],
   "source": [
    "def showCalendar():\n",
    "    gui=Tk()\n",
    "    gui.config(background='grey')\n",
    "    gui.title(\"Calender for the year\")\n",
    "    year= int(year_field.get())\n",
    "    gui_content=calendar.calendar(year)\n",
    "    calYear=Label(gui,text=gui_content, font='Consolas 10 bold')\n",
    "    calYear.grid(row=5,column=1,padx=20)\n",
    "    gui.mainloop()\n",
    "\n",
    "#Drivercode\n",
    "if __name__=='__main__':\n",
    "    new=Tk()\n",
    "    new.title(\"Calendar\")\n",
    "    new.geometry('250x140')\n",
    "    cal=Label(new, text='Calendar',bg='grey',font=('times',28,'bold'))\n",
    "    year= Label(new, text='Enter year',bg='dark grey')\n",
    "    year_field=Entry(new)\n",
    "    button=Button(new,text='Show Calendar',\n",
    "    fg='Black',bg='Blue',command=showCalendar)\n",
    "    \n",
    "    #putting widgets in position\n",
    "    cal.grid(row=1,column=1)\n",
    "    year.grid(row=2,column=1)\n",
    "    year_field.grid(row=3,column=1)\n",
    "    button.grid(row=4,column=1)\n",
    "    new.mainloop()"
   ]
  },
  {
   "cell_type": "code",
   "execution_count": null,
   "id": "f07abf4d",
   "metadata": {},
   "outputs": [],
   "source": []
  }
 ],
 "metadata": {
  "kernelspec": {
   "display_name": "Python 3",
   "language": "python",
   "name": "python3"
  },
  "language_info": {
   "codemirror_mode": {
    "name": "ipython",
    "version": 3
   },
   "file_extension": ".py",
   "mimetype": "text/x-python",
   "name": "python",
   "nbconvert_exporter": "python",
   "pygments_lexer": "ipython3",
   "version": "3.8.8"
  }
 },
 "nbformat": 4,
 "nbformat_minor": 5
}
